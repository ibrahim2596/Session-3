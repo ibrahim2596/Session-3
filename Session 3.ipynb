{
 "cells": [
  {
   "cell_type": "code",
   "execution_count": 54,
   "metadata": {},
   "outputs": [
    {
     "name": "stdout",
     "output_type": "stream",
     "text": [
      "It's a warm day. Enjoy the weather!\n"
     ]
    }
   ],
   "source": [
    "#Weather Advisor Task\n",
    "temperature = 20\n",
    "# If the temperature is below 10, print: \"It's a cold day. Stay warm!\"\n",
    "if temperature < 10: print(\"It's a cold day. Stay warm!\")\n",
    "# If the temperature is between 10 and 19 (inclusive), print: \"It's a cool day. Wear a jacket!\"\n",
    "elif temperature >= 10 and temperature <= 19: print(\"It's a cool day. Wear a jacket!\")\n",
    "# If the temperature is between 20 and 29 (inclusive), print: \"It's a warm day. Enjoy the weather!\"\n",
    "elif temperature >= 20 and temperature <= 29: print(\"It's a warm day. Enjoy the weather!\")\n",
    "# If the temperature is greater than or equal to 30, print: \"It's a hot day. Stay hydrated!\" \n",
    "else: print(\"It's a hot day. Stay hydrated!\")"
   ]
  },
  {
   "cell_type": "code",
   "execution_count": 55,
   "metadata": {},
   "outputs": [
    {
     "name": "stdout",
     "output_type": "stream",
     "text": [
      "It's a cool day. Wear a jacket!\n"
     ]
    }
   ],
   "source": [
    "#Another Way at Weather Advisor Task\n",
    "temperature = 10\n",
    "if temperature < 10: print(\"It's a cold day. Stay warm!\")\n",
    "elif 10 <= temperature <= 19: print(\"It's a cool day. Wear a jacket!\")\n",
    "elif 20 <= temperature <= 29: print(\"It's a warm day. Enjoy the weather!\")\n",
    "else: print(\"It's a hot day. Stay hydrated!\")"
   ]
  },
  {
   "cell_type": "code",
   "execution_count": 56,
   "metadata": {},
   "outputs": [
    {
     "name": "stdout",
     "output_type": "stream",
     "text": [
      "3 >> is number divisible by 3 and the result is >> 1.0\n",
      "6 >> is number divisible by 3 and the result is >> 2.0\n",
      "9 >> is number divisible by 3 and the result is >> 3.0\n",
      "12 >> is number divisible by 3 and the result is >> 4.0\n",
      "15 >> is number divisible by 3 and the result is >> 5.0\n",
      "18 >> is number divisible by 3 and the result is >> 6.0\n"
     ]
    }
   ],
   "source": [
    "#Filter and Transform a List Task\n",
    "#Create a list of integers from 1 to 20.\n",
    "# Print the numbers divisible by 3.\n",
    "# Use a for loop to find all the numbers in the list that are divisible by 3.\n",
    "main_list = range(1,20) \n",
    "for list in main_list : \n",
    "    if list %3 == 0: print(list ,\">>\", \"is number divisible by 3\",\"and the result is >>\",list/3)"
   ]
  },
  {
   "cell_type": "code",
   "execution_count": 57,
   "metadata": {},
   "outputs": [
    {
     "name": "stdout",
     "output_type": "stream",
     "text": [
      "1 ××\n",
      "2 ××\n",
      "3 ✓✓ 1\n",
      "4 ××\n",
      "5 ××\n",
      "6 ✓✓ 2\n",
      "7 ××\n",
      "8 ××\n",
      "9 ✓✓ 3\n",
      "10 ××\n",
      "11 ××\n",
      "12 ✓✓ 4\n",
      "13 ××\n",
      "14 ××\n",
      "15 ✓✓ 5\n",
      "16 ××\n",
      "17 ××\n",
      "18 ✓✓ 6\n",
      "19 ××\n"
     ]
    }
   ],
   "source": [
    "# Another example but I printed all numbers with marks and change result numbers format by f\" and .0f\n",
    "main_list = range(1,20) \n",
    "for list in main_list :\n",
    "    if list %3 == 0: print(list,\"\\u2713\\u2713\",f\"{list/3:,.0f}\")\n",
    "    else: print(list , \"××\")"
   ]
  }
 ],
 "metadata": {
  "kernelspec": {
   "display_name": "Python 3",
   "language": "python",
   "name": "python3"
  },
  "language_info": {
   "codemirror_mode": {
    "name": "ipython",
    "version": 3
   },
   "file_extension": ".py",
   "mimetype": "text/x-python",
   "name": "python",
   "nbconvert_exporter": "python",
   "pygments_lexer": "ipython3",
   "version": "3.13.1"
  }
 },
 "nbformat": 4,
 "nbformat_minor": 2
}
